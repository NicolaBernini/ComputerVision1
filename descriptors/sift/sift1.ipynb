{
  "nbformat": 4,
  "nbformat_minor": 0,
  "metadata": {
    "colab": {
      "name": "SIFT Descriptor1.ipynb",
      "version": "0.3.2",
      "views": {},
      "default_view": {},
      "provenance": [],
      "collapsed_sections": []
    }
  },
  "cells": [
    {
      "metadata": {
        "id": "D31GUXUNEqu_",
        "colab_type": "code",
        "colab": {
          "autoexec": {
            "startup": false,
            "wait_interval": 0
          }
        }
      },
      "cell_type": "code",
      "source": [
        ""
      ],
      "execution_count": 0,
      "outputs": []
    },
    {
      "metadata": {
        "id": "SkLG0g5uEs3_",
        "colab_type": "text"
      },
      "cell_type": "markdown",
      "source": [
        "\n",
        "# SIFT \n",
        "\n",
        "Let's consider a keypoint $ (u_{0}, v_{0}) $ in Image Coordinates and a $ 16 \\times 16 $ Image Patch named $ I_{16}^{(sq)}(u_{0}, v_{0}) $ centered on that keypoint \n",
        "\n",
        "The SIFT Descriptor is computed according to the following steps \n",
        "\n",
        "## Dense Gradient Computation \n",
        "\n",
        "Given $ \\forall (u,v)_{i} \\in I_{16}^{(sq)}(u_{0}, v_{0}) $ each pixel in the patch, the $ \\nabla(u,v)_{i} \\in \\mathbb{R} $ Local Gradient is computed, so to get in the end up a $ G_{256} = \\{ \\nabla(u,v)_{i \\in I_{16}^{(sq)}(u_{0}, v_{0})} \\}_{} $ set of 256 2D vectors representing the local gradients \n",
        "\n",
        "## Local Patch and Histogram of Orientations \n",
        "\n",
        "The $ I_{16}^{(sq)}(u_{0}, v_{0}) $ spatial domain gets divided into $ 4 \\times 4 $ Square Sub-Regions $ I_{4}^{(sq)} $ so that $ \\cup_{i,j \\in {1,...,4}} I_{4}^{(sq)}(i,j) = I_{16}^{(sq)}(u_{0}, v_{0}) $\n",
        "\n",
        "The $ G_{i,j} $ set of 16 gradients associated to $ I_{4}^{(sq)}(i,j) $ sub-region, gets accumulated into an Histogram related to the 8 main orientations : S-N, SW-NE, W-E, NW-SE, N-S, NW-SW, W-E, SE-NW \n",
        "\n",
        "This leads to build the $ d^{(SIFT-Patch)} \\in \\mathbb{R}^{8} $ 8-dimensional real vector representing the 8 main orientations magnitudes inside the $ 4 \\times 4 $ Image Patch \n",
        "\n",
        "## Descriptor \n",
        "\n",
        "The final feature descriptor $ d^{(SIFT)} \\in \\mathbb{R}^{128} $ is a 128-dimensional real vector built simply concatenating the $ 16 \\times d^{(SIFT-Patch)} $ \n",
        "\n",
        "\n",
        "\n"
      ]
    },
    {
      "metadata": {
        "id": "XYwsDIwAMPTg",
        "colab_type": "text"
      },
      "cell_type": "markdown",
      "source": [
        "\n",
        "![SIFT Descriptor](https://drive.google.com/uc?export=view&id=1aVfQOGn6ohd3ZzqL3uy0XVDnxbrF7mpe)\n",
        "- Courtesy of [Bag of Recurrence Patterns Representation for Time-Series Classification](https://arxiv.org/pdf/1803.11111.pdf) - Fig.3\n",
        "\n"
      ]
    },
    {
      "metadata": {
        "id": "Zlnp6yC-NJgv",
        "colab_type": "code",
        "colab": {
          "autoexec": {
            "startup": false,
            "wait_interval": 0
          }
        }
      },
      "cell_type": "code",
      "source": [
        ""
      ],
      "execution_count": 0,
      "outputs": []
    }
  ]
}
